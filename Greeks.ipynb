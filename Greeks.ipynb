{
 "cells": [
  {
   "cell_type": "code",
   "execution_count": 1,
   "id": "85a5bb9a-73a8-4302-a018-f578ebdbf009",
   "metadata": {
    "tags": []
   },
   "outputs": [],
   "source": [
    "import numpy\n",
    "from sympy import *\n",
    "#Find way to enforce arity. ArgumentIndexError almost works"
   ]
  },
  {
   "cell_type": "code",
   "execution_count": 33,
   "id": "16ed4e70-4a5b-4940-8de3-580d36ace85f",
   "metadata": {
    "tags": []
   },
   "outputs": [],
   "source": [
    "x, t, s, z, T = symbols('x t σ z T')\n",
    "\n",
    "class dp(Function):\n",
    "    \"\"\"\n",
    "    d_{+}(x,s,t) = (x + (s^2/2)(T-t))/(s sqrt(T-t)) \n",
    "    \"\"\"\n",
    "    def fdiff(self, argindex):\n",
    "        x, t, s = self.args\n",
    "        if argindex == 1:\n",
    "            return 1/(s * sqrt(T-t))\n",
    "        if argindex == 3:\n",
    "            return - dm(x,t,s)/s\n",
    "        \n",
    "    def doit(self,deep=True, **hints):\n",
    "        x , s , t = self.args\n",
    "        if deep:\n",
    "            x = x.doit(deep=deep, **hints)\n",
    "            s = s.doit(deep=deep, **hints)\n",
    "            t = t.doit(deep=deep, **hints)\n",
    "        return (x + (s**2/2)*(T-t))/(s*sqrt(T-t))\n",
    "    \n",
    "    def _latex(self, printer):\n",
    "        x , t , s = [printer._print(i) for i in self.args]\n",
    "        return r\"\\operatorname{d_{+}}{\\left(%s,%s,%s\\right)}\" % (x,t,s)\n",
    "        \n",
    "class dm(Function):\n",
    "    \"\"\"\n",
    "    d_{+}(x,s,t) = (x - (s^2/2)(T-t))/(s sqrt(T-t)) \n",
    "    \"\"\"\n",
    "    def fdiff(self, argindex=1):\n",
    "        x, t, s = self.args\n",
    "        if argindex == 1:\n",
    "            return 1/(s * sqrt(T-t))\n",
    "        if argindex == 3:\n",
    "            return - dp(x,t,s)/s\n",
    "\n",
    "    def doit(self,deep=True, **hints):\n",
    "        x , s , t = self.args\n",
    "        if deep:\n",
    "            x = x.doit(deep=deep, **hints)\n",
    "            s = s.doit(deep=deep, **hints)\n",
    "            t = t.doit(deep=deep, **hints)\n",
    "        return (x - (s**2/2)*(T-t))/(s*sqrt(T-t))        \n",
    "        \n",
    "    def _latex(self, printer):\n",
    "        x , t , s = [printer._print(i) for i in self.args]\n",
    "        return r\"\\operatorname{d_{-}}{\\left(%s,%s,%s\\right)}\" % (x,t,s)\n",
    "    \n",
    "assert dp(x,s,t).doit() == (x+(s**2/2)*(T-t))/(s*sqrt(T-t))  \n",
    "assert dm(x,s,t).doit() == (x-(s**2/2)*(T-t))/(s*sqrt(T-t))  \n",
    "assert diff(dp(x,t,s),s) == -dm(x,t,s)/s \n",
    "assert diff(dm(x,t,s),s) == -dp(x,t,s)/s \n",
    "assert diff(dp(x,t,s),x) == diff(dm(x,t,s),x) == 1/(s*sqrt(T-t))"
   ]
  },
  {
   "cell_type": "code",
   "execution_count": 3,
   "id": "7f864959-55ea-4667-a925-fe378d26dd8c",
   "metadata": {
    "tags": []
   },
   "outputs": [],
   "source": [
    "class dN(Function):\n",
    "    \"\"\"\n",
    "    N'(z) = (1/(sqrt(2 pi sigma)) e^(-z^2/2)\n",
    "    \"\"\"\n",
    "    @classmethod\n",
    "    def eval(cls,arg):\n",
    "        if arg.is_zero:\n",
    "            return Integer(1)\n",
    "        if isinstance(arg,dm):\n",
    "            x , t , s = arg.args\n",
    "            return exp(x)*dN(dp(x,t,s))\n",
    "        \n",
    "    \n",
    "    #def fdiff(self, argindex=1):\n",
    "    def fdiff(self, argindex):\n",
    "        return - self.args[0] * dN(self.args[0])\n",
    "    \n",
    "    def _latex(self,printer):\n",
    "        a = printer._print(self.args[0])\n",
    "        return r\"N^{\\prime}{\\left(%s\\right)}\" % (a)\n",
    "    \n",
    "assert dN(0) == 1\n",
    "assert diff(dN(z),z) == -z*dN(z)\n",
    "assert dN(dm(x,t,s)) == exp(x)*dN(dp(x,t,s))"
   ]
  },
  {
   "cell_type": "code",
   "execution_count": 4,
   "id": "4f8c2ae6-46ce-49e3-bd79-73fed2dda5e6",
   "metadata": {
    "tags": []
   },
   "outputs": [],
   "source": [
    "class N(Function):\n",
    "    \"\"\"\n",
    "    N(z) = (1/(sqrt(2 pi sigma)) int_{-\\infty}^z e^(-z^2/2) dz\n",
    "    \"\"\"\n",
    "    @classmethod\n",
    "    def eval(cls,arg):\n",
    "        if arg.is_Number:\n",
    "            if arg is S.NegativeInfinity:\n",
    "                return Integer(0)\n",
    "            elif arg is S.Infinity:\n",
    "                return Integer(1)\n",
    "            elif arg.is_zero:\n",
    "                return Rational(1,2)\n",
    "    \n",
    "    def fdiff(self, argindex=1):\n",
    "        return dN(self.args[0])\n",
    "\n",
    "assert N(S.NegativeInfinity) == 0\n",
    "assert N(S.Infinity) == 1\n",
    "assert N(0) == 1/2\n",
    "assert diff(N(z),z) == dN(z)"
   ]
  },
  {
   "cell_type": "code",
   "execution_count": 5,
   "id": "4bbfd9cb-3c66-48da-9ea7-f663a4900adc",
   "metadata": {
    "tags": []
   },
   "outputs": [],
   "source": [
    "BSM = exp(x)*N(dp(x,t,s))-N(dm(x,t,s))"
   ]
  },
  {
   "cell_type": "code",
   "execution_count": 6,
   "id": "31baf9d5-1cb8-4597-b21c-20674a1b0ead",
   "metadata": {
    "tags": []
   },
   "outputs": [
    {
     "data": {
      "text/latex": [
       "$\\displaystyle e^{x} N{\\left(\\operatorname{d_{+}}{\\left(x,t,σ\\right)} \\right)}$"
      ],
      "text/plain": [
       "exp(x)*N(dp(x, t, σ))"
      ]
     },
     "execution_count": 6,
     "metadata": {},
     "output_type": "execute_result"
    }
   ],
   "source": [
    "# Delta\n",
    "diff(BSM,x)"
   ]
  },
  {
   "cell_type": "code",
   "execution_count": 7,
   "id": "087b926a-79a6-4a64-af0e-125e47c9ea2c",
   "metadata": {
    "tags": []
   },
   "outputs": [
    {
     "data": {
      "text/latex": [
       "$\\displaystyle - \\frac{\\left(\\operatorname{d_{-}}{\\left(x,t,σ\\right)} - \\operatorname{d_{+}}{\\left(x,t,σ\\right)}\\right) e^{x} N^{\\prime}{\\left(\\operatorname{d_{+}}{\\left(x,t,σ\\right)}\\right)}}{σ}$"
      ],
      "text/plain": [
       "-(dm(x, t, σ) - dp(x, t, σ))*exp(x)*dN(dp(x, t, σ))/σ"
      ]
     },
     "execution_count": 7,
     "metadata": {},
     "output_type": "execute_result"
    }
   ],
   "source": [
    "# Vega\n",
    "factor(diff(BSM,s))"
   ]
  },
  {
   "cell_type": "code",
   "execution_count": 9,
   "id": "a01057c8-2f11-4284-a8b5-e1f5b9c2fc27",
   "metadata": {
    "tags": []
   },
   "outputs": [
    {
     "data": {
      "text/latex": [
       "$\\displaystyle \\left(N{\\left(\\operatorname{d_{+}}{\\left(x,t,σ\\right)} \\right)} + \\frac{N^{\\prime}{\\left(\\operatorname{d_{+}}{\\left(x,t,σ\\right)}\\right)}}{σ \\sqrt{T - t}}\\right) e^{x}$"
      ],
      "text/plain": [
       "(N(dp(x, t, σ)) + dN(dp(x, t, σ))/(σ*sqrt(T - t)))*exp(x)"
      ]
     },
     "execution_count": 9,
     "metadata": {},
     "output_type": "execute_result"
    }
   ],
   "source": [
    "# Gamma\n",
    "diff(BSM,x,x)"
   ]
  },
  {
   "cell_type": "code",
   "execution_count": 38,
   "id": "e38bc21f-3025-40cf-9b63-73b8751c9801",
   "metadata": {
    "tags": []
   },
   "outputs": [
    {
     "data": {
      "text/latex": [
       "$\\displaystyle - \\frac{\\operatorname{d_{-}}{\\left(x,t,σ\\right)} e^{x} N^{\\prime}{\\left(\\operatorname{d_{+}}{\\left(x,t,σ\\right)}\\right)}}{σ}$"
      ],
      "text/plain": [
       "-dm(x, t, σ)*exp(x)*dN(dp(x, t, σ))/σ"
      ]
     },
     "execution_count": 38,
     "metadata": {},
     "output_type": "execute_result"
    }
   ],
   "source": [
    "# Vanna\n",
    "assert diff(BSM,s,x) == diff(BSM,x,s)\n",
    "diff(BSM,x,s)"
   ]
  },
  {
   "cell_type": "code",
   "execution_count": 41,
   "id": "659576b1-068e-4998-8bdd-7f41c5096593",
   "metadata": {
    "tags": []
   },
   "outputs": [
    {
     "ename": "TypeError",
     "evalue": "dp._latex() got an unexpected keyword argument 'exp'",
     "output_type": "error",
     "traceback": [
      "\u001b[0;31m---------------------------------------------------------------------------\u001b[0m",
      "\u001b[0;31mTypeError\u001b[0m                                 Traceback (most recent call last)",
      "File \u001b[0;32m/nix/store/3gkm53wq15r233lpsr59n7m4dvf5zqzv-python3-3.10.9-env/lib/python3.10/site-packages/IPython/core/formatters.py:342\u001b[0m, in \u001b[0;36mBaseFormatter.__call__\u001b[0;34m(self, obj)\u001b[0m\n\u001b[1;32m    340\u001b[0m     method \u001b[38;5;241m=\u001b[39m get_real_method(obj, \u001b[38;5;28mself\u001b[39m\u001b[38;5;241m.\u001b[39mprint_method)\n\u001b[1;32m    341\u001b[0m     \u001b[38;5;28;01mif\u001b[39;00m method \u001b[38;5;129;01mis\u001b[39;00m \u001b[38;5;129;01mnot\u001b[39;00m \u001b[38;5;28;01mNone\u001b[39;00m:\n\u001b[0;32m--> 342\u001b[0m         \u001b[38;5;28;01mreturn\u001b[39;00m \u001b[43mmethod\u001b[49m\u001b[43m(\u001b[49m\u001b[43m)\u001b[49m\n\u001b[1;32m    343\u001b[0m     \u001b[38;5;28;01mreturn\u001b[39;00m \u001b[38;5;28;01mNone\u001b[39;00m\n\u001b[1;32m    344\u001b[0m \u001b[38;5;28;01melse\u001b[39;00m:\n",
      "File \u001b[0;32m/nix/store/3gkm53wq15r233lpsr59n7m4dvf5zqzv-python3-3.10.9-env/lib/python3.10/site-packages/sympy/core/_print_helpers.py:64\u001b[0m, in \u001b[0;36mPrintable._repr_latex_\u001b[0;34m(self)\u001b[0m\n\u001b[1;32m     55\u001b[0m \u001b[38;5;124;03m\"\"\"\u001b[39;00m\n\u001b[1;32m     56\u001b[0m \u001b[38;5;124;03mIPython/Jupyter LaTeX printing\u001b[39;00m\n\u001b[1;32m     57\u001b[0m \n\u001b[0;32m   (...)\u001b[0m\n\u001b[1;32m     61\u001b[0m \u001b[38;5;124;03mSymPy objects, like lists and dictionaries of expressions.\u001b[39;00m\n\u001b[1;32m     62\u001b[0m \u001b[38;5;124;03m\"\"\"\u001b[39;00m\n\u001b[1;32m     63\u001b[0m \u001b[38;5;28;01mfrom\u001b[39;00m \u001b[38;5;21;01msympy\u001b[39;00m\u001b[38;5;21;01m.\u001b[39;00m\u001b[38;5;21;01mprinting\u001b[39;00m\u001b[38;5;21;01m.\u001b[39;00m\u001b[38;5;21;01mlatex\u001b[39;00m \u001b[38;5;28;01mimport\u001b[39;00m latex\n\u001b[0;32m---> 64\u001b[0m s \u001b[38;5;241m=\u001b[39m \u001b[43mlatex\u001b[49m\u001b[43m(\u001b[49m\u001b[38;5;28;43mself\u001b[39;49m\u001b[43m,\u001b[49m\u001b[43m \u001b[49m\u001b[43mmode\u001b[49m\u001b[38;5;241;43m=\u001b[39;49m\u001b[38;5;124;43m'\u001b[39;49m\u001b[38;5;124;43mplain\u001b[39;49m\u001b[38;5;124;43m'\u001b[39;49m\u001b[43m)\u001b[49m\n\u001b[1;32m     65\u001b[0m \u001b[38;5;28;01mreturn\u001b[39;00m \u001b[38;5;124m\"\u001b[39m\u001b[38;5;124m$\u001b[39m\u001b[38;5;130;01m\\\\\u001b[39;00m\u001b[38;5;124mdisplaystyle \u001b[39m\u001b[38;5;132;01m%s\u001b[39;00m\u001b[38;5;124m$\u001b[39m\u001b[38;5;124m\"\u001b[39m \u001b[38;5;241m%\u001b[39m s\n",
      "File \u001b[0;32m/nix/store/3gkm53wq15r233lpsr59n7m4dvf5zqzv-python3-3.10.9-env/lib/python3.10/site-packages/sympy/printing/printer.py:372\u001b[0m, in \u001b[0;36m_PrintFunction.__call__\u001b[0;34m(self, *args, **kwargs)\u001b[0m\n\u001b[1;32m    371\u001b[0m \u001b[38;5;28;01mdef\u001b[39;00m \u001b[38;5;21m__call__\u001b[39m(\u001b[38;5;28mself\u001b[39m, \u001b[38;5;241m*\u001b[39margs, \u001b[38;5;241m*\u001b[39m\u001b[38;5;241m*\u001b[39mkwargs):\n\u001b[0;32m--> 372\u001b[0m     \u001b[38;5;28;01mreturn\u001b[39;00m \u001b[38;5;28;43mself\u001b[39;49m\u001b[38;5;241;43m.\u001b[39;49m\u001b[43m__wrapped__\u001b[49m\u001b[43m(\u001b[49m\u001b[38;5;241;43m*\u001b[39;49m\u001b[43margs\u001b[49m\u001b[43m,\u001b[49m\u001b[43m \u001b[49m\u001b[38;5;241;43m*\u001b[39;49m\u001b[38;5;241;43m*\u001b[39;49m\u001b[43mkwargs\u001b[49m\u001b[43m)\u001b[49m\n",
      "File \u001b[0;32m/nix/store/3gkm53wq15r233lpsr59n7m4dvf5zqzv-python3-3.10.9-env/lib/python3.10/site-packages/sympy/printing/latex.py:3140\u001b[0m, in \u001b[0;36mlatex\u001b[0;34m(expr, **settings)\u001b[0m\n\u001b[1;32m   2928\u001b[0m \u001b[38;5;129m@print_function\u001b[39m(LatexPrinter)\n\u001b[1;32m   2929\u001b[0m \u001b[38;5;28;01mdef\u001b[39;00m \u001b[38;5;21mlatex\u001b[39m(expr, \u001b[38;5;241m*\u001b[39m\u001b[38;5;241m*\u001b[39msettings):\n\u001b[1;32m   2930\u001b[0m     \u001b[38;5;124mr\u001b[39m\u001b[38;5;124;03m\"\"\"Convert the given expression to LaTeX string representation.\u001b[39;00m\n\u001b[1;32m   2931\u001b[0m \n\u001b[1;32m   2932\u001b[0m \u001b[38;5;124;03m    Parameters\u001b[39;00m\n\u001b[0;32m   (...)\u001b[0m\n\u001b[1;32m   3138\u001b[0m \n\u001b[1;32m   3139\u001b[0m \u001b[38;5;124;03m    \"\"\"\u001b[39;00m\n\u001b[0;32m-> 3140\u001b[0m     \u001b[38;5;28;01mreturn\u001b[39;00m \u001b[43mLatexPrinter\u001b[49m\u001b[43m(\u001b[49m\u001b[43msettings\u001b[49m\u001b[43m)\u001b[49m\u001b[38;5;241;43m.\u001b[39;49m\u001b[43mdoprint\u001b[49m\u001b[43m(\u001b[49m\u001b[43mexpr\u001b[49m\u001b[43m)\u001b[49m\n",
      "File \u001b[0;32m/nix/store/3gkm53wq15r233lpsr59n7m4dvf5zqzv-python3-3.10.9-env/lib/python3.10/site-packages/sympy/printing/latex.py:264\u001b[0m, in \u001b[0;36mLatexPrinter.doprint\u001b[0;34m(self, expr)\u001b[0m\n\u001b[1;32m    263\u001b[0m \u001b[38;5;28;01mdef\u001b[39;00m \u001b[38;5;21mdoprint\u001b[39m(\u001b[38;5;28mself\u001b[39m, expr) \u001b[38;5;241m-\u001b[39m\u001b[38;5;241m>\u001b[39m \u001b[38;5;28mstr\u001b[39m:\n\u001b[0;32m--> 264\u001b[0m     tex \u001b[38;5;241m=\u001b[39m \u001b[43mPrinter\u001b[49m\u001b[38;5;241;43m.\u001b[39;49m\u001b[43mdoprint\u001b[49m\u001b[43m(\u001b[49m\u001b[38;5;28;43mself\u001b[39;49m\u001b[43m,\u001b[49m\u001b[43m \u001b[49m\u001b[43mexpr\u001b[49m\u001b[43m)\u001b[49m\n\u001b[1;32m    266\u001b[0m     \u001b[38;5;28;01mif\u001b[39;00m \u001b[38;5;28mself\u001b[39m\u001b[38;5;241m.\u001b[39m_settings[\u001b[38;5;124m'\u001b[39m\u001b[38;5;124mmode\u001b[39m\u001b[38;5;124m'\u001b[39m] \u001b[38;5;241m==\u001b[39m \u001b[38;5;124m'\u001b[39m\u001b[38;5;124mplain\u001b[39m\u001b[38;5;124m'\u001b[39m:\n\u001b[1;32m    267\u001b[0m         \u001b[38;5;28;01mreturn\u001b[39;00m tex\n",
      "File \u001b[0;32m/nix/store/3gkm53wq15r233lpsr59n7m4dvf5zqzv-python3-3.10.9-env/lib/python3.10/site-packages/sympy/printing/printer.py:292\u001b[0m, in \u001b[0;36mPrinter.doprint\u001b[0;34m(self, expr)\u001b[0m\n\u001b[1;32m    290\u001b[0m \u001b[38;5;28;01mdef\u001b[39;00m \u001b[38;5;21mdoprint\u001b[39m(\u001b[38;5;28mself\u001b[39m, expr):\n\u001b[1;32m    291\u001b[0m     \u001b[38;5;124;03m\"\"\"Returns printer's representation for expr (as a string)\"\"\"\u001b[39;00m\n\u001b[0;32m--> 292\u001b[0m     \u001b[38;5;28;01mreturn\u001b[39;00m \u001b[38;5;28mself\u001b[39m\u001b[38;5;241m.\u001b[39m_str(\u001b[38;5;28;43mself\u001b[39;49m\u001b[38;5;241;43m.\u001b[39;49m\u001b[43m_print\u001b[49m\u001b[43m(\u001b[49m\u001b[43mexpr\u001b[49m\u001b[43m)\u001b[49m)\n",
      "File \u001b[0;32m/nix/store/3gkm53wq15r233lpsr59n7m4dvf5zqzv-python3-3.10.9-env/lib/python3.10/site-packages/sympy/printing/printer.py:331\u001b[0m, in \u001b[0;36mPrinter._print\u001b[0;34m(self, expr, **kwargs)\u001b[0m\n\u001b[1;32m    329\u001b[0m     printmethod \u001b[38;5;241m=\u001b[39m \u001b[38;5;28mgetattr\u001b[39m(\u001b[38;5;28mself\u001b[39m, printmethodname, \u001b[38;5;28;01mNone\u001b[39;00m)\n\u001b[1;32m    330\u001b[0m     \u001b[38;5;28;01mif\u001b[39;00m printmethod \u001b[38;5;129;01mis\u001b[39;00m \u001b[38;5;129;01mnot\u001b[39;00m \u001b[38;5;28;01mNone\u001b[39;00m:\n\u001b[0;32m--> 331\u001b[0m         \u001b[38;5;28;01mreturn\u001b[39;00m \u001b[43mprintmethod\u001b[49m\u001b[43m(\u001b[49m\u001b[43mexpr\u001b[49m\u001b[43m,\u001b[49m\u001b[43m \u001b[49m\u001b[38;5;241;43m*\u001b[39;49m\u001b[38;5;241;43m*\u001b[39;49m\u001b[43mkwargs\u001b[49m\u001b[43m)\u001b[49m\n\u001b[1;32m    332\u001b[0m \u001b[38;5;66;03m# Unknown object, fall back to the emptyPrinter.\u001b[39;00m\n\u001b[1;32m    333\u001b[0m \u001b[38;5;28;01mreturn\u001b[39;00m \u001b[38;5;28mself\u001b[39m\u001b[38;5;241m.\u001b[39memptyPrinter(expr)\n",
      "File \u001b[0;32m/nix/store/3gkm53wq15r233lpsr59n7m4dvf5zqzv-python3-3.10.9-env/lib/python3.10/site-packages/sympy/printing/latex.py:399\u001b[0m, in \u001b[0;36mLatexPrinter._print_Add\u001b[0;34m(self, expr, order)\u001b[0m\n\u001b[1;32m    397\u001b[0m \u001b[38;5;28;01melse\u001b[39;00m:\n\u001b[1;32m    398\u001b[0m     tex \u001b[38;5;241m+\u001b[39m\u001b[38;5;241m=\u001b[39m \u001b[38;5;124m\"\u001b[39m\u001b[38;5;124m + \u001b[39m\u001b[38;5;124m\"\u001b[39m\n\u001b[0;32m--> 399\u001b[0m term_tex \u001b[38;5;241m=\u001b[39m \u001b[38;5;28;43mself\u001b[39;49m\u001b[38;5;241;43m.\u001b[39;49m\u001b[43m_print\u001b[49m\u001b[43m(\u001b[49m\u001b[43mterm\u001b[49m\u001b[43m)\u001b[49m\n\u001b[1;32m    400\u001b[0m \u001b[38;5;28;01mif\u001b[39;00m \u001b[38;5;28mself\u001b[39m\u001b[38;5;241m.\u001b[39m_needs_add_brackets(term):\n\u001b[1;32m    401\u001b[0m     term_tex \u001b[38;5;241m=\u001b[39m \u001b[38;5;124mr\u001b[39m\u001b[38;5;124m\"\u001b[39m\u001b[38;5;124m\\\u001b[39m\u001b[38;5;124mleft(\u001b[39m\u001b[38;5;132;01m%s\u001b[39;00m\u001b[38;5;124m\\\u001b[39m\u001b[38;5;124mright)\u001b[39m\u001b[38;5;124m\"\u001b[39m \u001b[38;5;241m%\u001b[39m term_tex\n",
      "File \u001b[0;32m/nix/store/3gkm53wq15r233lpsr59n7m4dvf5zqzv-python3-3.10.9-env/lib/python3.10/site-packages/sympy/printing/printer.py:331\u001b[0m, in \u001b[0;36mPrinter._print\u001b[0;34m(self, expr, **kwargs)\u001b[0m\n\u001b[1;32m    329\u001b[0m     printmethod \u001b[38;5;241m=\u001b[39m \u001b[38;5;28mgetattr\u001b[39m(\u001b[38;5;28mself\u001b[39m, printmethodname, \u001b[38;5;28;01mNone\u001b[39;00m)\n\u001b[1;32m    330\u001b[0m     \u001b[38;5;28;01mif\u001b[39;00m printmethod \u001b[38;5;129;01mis\u001b[39;00m \u001b[38;5;129;01mnot\u001b[39;00m \u001b[38;5;28;01mNone\u001b[39;00m:\n\u001b[0;32m--> 331\u001b[0m         \u001b[38;5;28;01mreturn\u001b[39;00m \u001b[43mprintmethod\u001b[49m\u001b[43m(\u001b[49m\u001b[43mexpr\u001b[49m\u001b[43m,\u001b[49m\u001b[43m \u001b[49m\u001b[38;5;241;43m*\u001b[39;49m\u001b[38;5;241;43m*\u001b[39;49m\u001b[43mkwargs\u001b[49m\u001b[43m)\u001b[49m\n\u001b[1;32m    332\u001b[0m \u001b[38;5;66;03m# Unknown object, fall back to the emptyPrinter.\u001b[39;00m\n\u001b[1;32m    333\u001b[0m \u001b[38;5;28;01mreturn\u001b[39;00m \u001b[38;5;28mself\u001b[39m\u001b[38;5;241m.\u001b[39memptyPrinter(expr)\n",
      "File \u001b[0;32m/nix/store/3gkm53wq15r233lpsr59n7m4dvf5zqzv-python3-3.10.9-env/lib/python3.10/site-packages/sympy/printing/latex.py:592\u001b[0m, in \u001b[0;36mLatexPrinter._print_Mul\u001b[0;34m(self, expr)\u001b[0m\n\u001b[1;32m    589\u001b[0m     tex \u001b[38;5;241m+\u001b[39m\u001b[38;5;241m=\u001b[39m convert(expr)\n\u001b[1;32m    591\u001b[0m \u001b[38;5;28;01melse\u001b[39;00m:\n\u001b[0;32m--> 592\u001b[0m     snumer \u001b[38;5;241m=\u001b[39m \u001b[43mconvert\u001b[49m\u001b[43m(\u001b[49m\u001b[43mnumer\u001b[49m\u001b[43m)\u001b[49m\n\u001b[1;32m    593\u001b[0m     sdenom \u001b[38;5;241m=\u001b[39m convert(denom)\n\u001b[1;32m    594\u001b[0m     ldenom \u001b[38;5;241m=\u001b[39m \u001b[38;5;28mlen\u001b[39m(sdenom\u001b[38;5;241m.\u001b[39msplit())\n",
      "File \u001b[0;32m/nix/store/3gkm53wq15r233lpsr59n7m4dvf5zqzv-python3-3.10.9-env/lib/python3.10/site-packages/sympy/printing/latex.py:538\u001b[0m, in \u001b[0;36mLatexPrinter._print_Mul.<locals>.convert\u001b[0;34m(expr)\u001b[0m\n\u001b[1;32m    534\u001b[0m units, nonunits \u001b[38;5;241m=\u001b[39m sift(args, \u001b[38;5;28;01mlambda\u001b[39;00m x: \u001b[38;5;28misinstance\u001b[39m(x, (Quantity, Prefix)) \u001b[38;5;129;01mor\u001b[39;00m\n\u001b[1;32m    535\u001b[0m               (\u001b[38;5;28misinstance\u001b[39m(x, Pow) \u001b[38;5;129;01mand\u001b[39;00m\n\u001b[1;32m    536\u001b[0m                \u001b[38;5;28misinstance\u001b[39m(x\u001b[38;5;241m.\u001b[39mbase, Quantity)), binary\u001b[38;5;241m=\u001b[39m\u001b[38;5;28;01mTrue\u001b[39;00m)\n\u001b[1;32m    537\u001b[0m prefixes, units \u001b[38;5;241m=\u001b[39m sift(units, \u001b[38;5;28;01mlambda\u001b[39;00m x: \u001b[38;5;28misinstance\u001b[39m(x, Prefix), binary\u001b[38;5;241m=\u001b[39m\u001b[38;5;28;01mTrue\u001b[39;00m)\n\u001b[0;32m--> 538\u001b[0m \u001b[38;5;28;01mreturn\u001b[39;00m \u001b[43mconvert_args\u001b[49m\u001b[43m(\u001b[49m\u001b[43mnonunits\u001b[49m\u001b[43m \u001b[49m\u001b[38;5;241;43m+\u001b[39;49m\u001b[43m \u001b[49m\u001b[43mprefixes\u001b[49m\u001b[43m \u001b[49m\u001b[38;5;241;43m+\u001b[39;49m\u001b[43m \u001b[49m\u001b[43munits\u001b[49m\u001b[43m)\u001b[49m\n",
      "File \u001b[0;32m/nix/store/3gkm53wq15r233lpsr59n7m4dvf5zqzv-python3-3.10.9-env/lib/python3.10/site-packages/sympy/printing/latex.py:544\u001b[0m, in \u001b[0;36mLatexPrinter._print_Mul.<locals>.convert_args\u001b[0;34m(args)\u001b[0m\n\u001b[1;32m    541\u001b[0m _tex \u001b[38;5;241m=\u001b[39m last_term_tex \u001b[38;5;241m=\u001b[39m \u001b[38;5;124m\"\u001b[39m\u001b[38;5;124m\"\u001b[39m\n\u001b[1;32m    543\u001b[0m \u001b[38;5;28;01mfor\u001b[39;00m i, term \u001b[38;5;129;01min\u001b[39;00m \u001b[38;5;28menumerate\u001b[39m(args):\n\u001b[0;32m--> 544\u001b[0m     term_tex \u001b[38;5;241m=\u001b[39m \u001b[38;5;28;43mself\u001b[39;49m\u001b[38;5;241;43m.\u001b[39;49m\u001b[43m_print\u001b[49m\u001b[43m(\u001b[49m\u001b[43mterm\u001b[49m\u001b[43m)\u001b[49m\n\u001b[1;32m    546\u001b[0m     \u001b[38;5;28;01mif\u001b[39;00m \u001b[38;5;129;01mnot\u001b[39;00m \u001b[38;5;28misinstance\u001b[39m(term, (Quantity, Prefix)):\n\u001b[1;32m    547\u001b[0m         \u001b[38;5;28;01mif\u001b[39;00m \u001b[38;5;28mself\u001b[39m\u001b[38;5;241m.\u001b[39m_needs_mul_brackets(term, first\u001b[38;5;241m=\u001b[39m(i \u001b[38;5;241m==\u001b[39m \u001b[38;5;241m0\u001b[39m),\n\u001b[1;32m    548\u001b[0m                                     last\u001b[38;5;241m=\u001b[39m(i \u001b[38;5;241m==\u001b[39m \u001b[38;5;28mlen\u001b[39m(args) \u001b[38;5;241m-\u001b[39m \u001b[38;5;241m1\u001b[39m)):\n",
      "File \u001b[0;32m/nix/store/3gkm53wq15r233lpsr59n7m4dvf5zqzv-python3-3.10.9-env/lib/python3.10/site-packages/sympy/printing/printer.py:331\u001b[0m, in \u001b[0;36mPrinter._print\u001b[0;34m(self, expr, **kwargs)\u001b[0m\n\u001b[1;32m    329\u001b[0m     printmethod \u001b[38;5;241m=\u001b[39m \u001b[38;5;28mgetattr\u001b[39m(\u001b[38;5;28mself\u001b[39m, printmethodname, \u001b[38;5;28;01mNone\u001b[39;00m)\n\u001b[1;32m    330\u001b[0m     \u001b[38;5;28;01mif\u001b[39;00m printmethod \u001b[38;5;129;01mis\u001b[39;00m \u001b[38;5;129;01mnot\u001b[39;00m \u001b[38;5;28;01mNone\u001b[39;00m:\n\u001b[0;32m--> 331\u001b[0m         \u001b[38;5;28;01mreturn\u001b[39;00m \u001b[43mprintmethod\u001b[49m\u001b[43m(\u001b[49m\u001b[43mexpr\u001b[49m\u001b[43m,\u001b[49m\u001b[43m \u001b[49m\u001b[38;5;241;43m*\u001b[39;49m\u001b[38;5;241;43m*\u001b[39;49m\u001b[43mkwargs\u001b[49m\u001b[43m)\u001b[49m\n\u001b[1;32m    332\u001b[0m \u001b[38;5;66;03m# Unknown object, fall back to the emptyPrinter.\u001b[39;00m\n\u001b[1;32m    333\u001b[0m \u001b[38;5;28;01mreturn\u001b[39;00m \u001b[38;5;28mself\u001b[39m\u001b[38;5;241m.\u001b[39memptyPrinter(expr)\n",
      "File \u001b[0;32m/nix/store/3gkm53wq15r233lpsr59n7m4dvf5zqzv-python3-3.10.9-env/lib/python3.10/site-packages/sympy/printing/latex.py:689\u001b[0m, in \u001b[0;36mLatexPrinter._print_Pow\u001b[0;34m(self, expr)\u001b[0m\n\u001b[1;32m    687\u001b[0m         \u001b[38;5;28;01mreturn\u001b[39;00m \u001b[38;5;28mself\u001b[39m\u001b[38;5;241m.\u001b[39m_print_Mul(expr)\n\u001b[1;32m    688\u001b[0m \u001b[38;5;28;01mif\u001b[39;00m expr\u001b[38;5;241m.\u001b[39mbase\u001b[38;5;241m.\u001b[39mis_Function:\n\u001b[0;32m--> 689\u001b[0m     \u001b[38;5;28;01mreturn\u001b[39;00m \u001b[38;5;28;43mself\u001b[39;49m\u001b[38;5;241;43m.\u001b[39;49m\u001b[43m_print\u001b[49m\u001b[43m(\u001b[49m\u001b[43mexpr\u001b[49m\u001b[38;5;241;43m.\u001b[39;49m\u001b[43mbase\u001b[49m\u001b[43m,\u001b[49m\u001b[43m \u001b[49m\u001b[43mexp\u001b[49m\u001b[38;5;241;43m=\u001b[39;49m\u001b[38;5;28;43mself\u001b[39;49m\u001b[38;5;241;43m.\u001b[39;49m\u001b[43m_print\u001b[49m\u001b[43m(\u001b[49m\u001b[43mexpr\u001b[49m\u001b[38;5;241;43m.\u001b[39;49m\u001b[43mexp\u001b[49m\u001b[43m)\u001b[49m\u001b[43m)\u001b[49m\n\u001b[1;32m    690\u001b[0m tex \u001b[38;5;241m=\u001b[39m \u001b[38;5;124mr\u001b[39m\u001b[38;5;124m\"\u001b[39m\u001b[38;5;132;01m%s\u001b[39;00m\u001b[38;5;124m^\u001b[39m\u001b[38;5;124m{\u001b[39m\u001b[38;5;132;01m%s\u001b[39;00m\u001b[38;5;124m}\u001b[39m\u001b[38;5;124m\"\u001b[39m\n\u001b[1;32m    691\u001b[0m \u001b[38;5;28;01mreturn\u001b[39;00m \u001b[38;5;28mself\u001b[39m\u001b[38;5;241m.\u001b[39m_helper_print_standard_power(expr, tex)\n",
      "File \u001b[0;32m/nix/store/3gkm53wq15r233lpsr59n7m4dvf5zqzv-python3-3.10.9-env/lib/python3.10/site-packages/sympy/printing/printer.py:309\u001b[0m, in \u001b[0;36mPrinter._print\u001b[0;34m(self, expr, **kwargs)\u001b[0m\n\u001b[1;32m    303\u001b[0m \u001b[38;5;28;01mtry\u001b[39;00m:\n\u001b[1;32m    304\u001b[0m     \u001b[38;5;66;03m# If the printer defines a name for a printing method\u001b[39;00m\n\u001b[1;32m    305\u001b[0m     \u001b[38;5;66;03m# (Printer.printmethod) and the object knows for itself how it\u001b[39;00m\n\u001b[1;32m    306\u001b[0m     \u001b[38;5;66;03m# should be printed, use that method.\u001b[39;00m\n\u001b[1;32m    307\u001b[0m     \u001b[38;5;28;01mif\u001b[39;00m (\u001b[38;5;28mself\u001b[39m\u001b[38;5;241m.\u001b[39mprintmethod \u001b[38;5;129;01mand\u001b[39;00m \u001b[38;5;28mhasattr\u001b[39m(expr, \u001b[38;5;28mself\u001b[39m\u001b[38;5;241m.\u001b[39mprintmethod)\n\u001b[1;32m    308\u001b[0m             \u001b[38;5;129;01mand\u001b[39;00m \u001b[38;5;129;01mnot\u001b[39;00m \u001b[38;5;28misinstance\u001b[39m(expr, BasicMeta)):\n\u001b[0;32m--> 309\u001b[0m         \u001b[38;5;28;01mreturn\u001b[39;00m \u001b[38;5;28;43mgetattr\u001b[39;49m\u001b[43m(\u001b[49m\u001b[43mexpr\u001b[49m\u001b[43m,\u001b[49m\u001b[43m \u001b[49m\u001b[38;5;28;43mself\u001b[39;49m\u001b[38;5;241;43m.\u001b[39;49m\u001b[43mprintmethod\u001b[49m\u001b[43m)\u001b[49m\u001b[43m(\u001b[49m\u001b[38;5;28;43mself\u001b[39;49m\u001b[43m,\u001b[49m\u001b[43m \u001b[49m\u001b[38;5;241;43m*\u001b[39;49m\u001b[38;5;241;43m*\u001b[39;49m\u001b[43mkwargs\u001b[49m\u001b[43m)\u001b[49m\n\u001b[1;32m    311\u001b[0m     \u001b[38;5;66;03m# See if the class of expr is known, or if one of its super\u001b[39;00m\n\u001b[1;32m    312\u001b[0m     \u001b[38;5;66;03m# classes is known, and use that print function\u001b[39;00m\n\u001b[1;32m    313\u001b[0m     \u001b[38;5;66;03m# Exception: ignore the subclasses of Undefined, so that, e.g.,\u001b[39;00m\n\u001b[1;32m    314\u001b[0m     \u001b[38;5;66;03m# Function('gamma') does not get dispatched to _print_gamma\u001b[39;00m\n\u001b[1;32m    315\u001b[0m     classes \u001b[38;5;241m=\u001b[39m \u001b[38;5;28mtype\u001b[39m(expr)\u001b[38;5;241m.\u001b[39m\u001b[38;5;18m__mro__\u001b[39m\n",
      "\u001b[0;31mTypeError\u001b[0m: dp._latex() got an unexpected keyword argument 'exp'"
     ]
    },
    {
     "data": {
      "text/plain": [
       "-dm(x, t, σ)*dm(x, t, σ)*dp(x, t, σ)*exp(x)*dN(dp(x, t, σ))/σ**2 + dm(x, t, σ)*exp(x)*dN(dp(x, t, σ))/σ**2 + dm(x, t, σ)*dp(x, t, σ)**2*exp(x)*dN(dp(x, t, σ))/σ**2 - dm(x, t, σ)*exp(x)*dN(dp(x, t, σ))/σ**2 + dp(x, t, σ)*exp(x)*dN(dp(x, t, σ))/σ**2 - dp(x, t, σ)*exp(x)*dN(dp(x, t, σ))/σ**2"
      ]
     },
     "execution_count": 41,
     "metadata": {},
     "output_type": "execute_result"
    }
   ],
   "source": [
    "# Vomma\n",
    "diff(diff(BSM,s),s)"
   ]
  },
  {
   "cell_type": "code",
   "execution_count": null,
   "id": "4f776bb5-d8fe-4a3c-8c4f-b3c62928ab92",
   "metadata": {},
   "outputs": [],
   "source": []
  }
 ],
 "metadata": {
  "kernelspec": {
   "display_name": "python-science kernel",
   "language": "python",
   "name": "python-science"
  },
  "language_info": {
   "codemirror_mode": {
    "name": "ipython",
    "version": 3
   },
   "file_extension": ".py",
   "mimetype": "text/x-python",
   "name": "python",
   "nbconvert_exporter": "python",
   "pygments_lexer": "ipython3",
   "version": "3.10.9"
  }
 },
 "nbformat": 4,
 "nbformat_minor": 5
}
