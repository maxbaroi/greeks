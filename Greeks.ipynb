{
 "cells": [
  {
   "cell_type": "code",
   "execution_count": 1,
   "id": "85a5bb9a-73a8-4302-a018-f578ebdbf009",
   "metadata": {
    "tags": []
   },
   "outputs": [],
   "source": [
    "import numpy\n",
    "from sympy import *\n",
    "#Find way to enforce arity. ArgumentIndexError almost works"
   ]
  },
  {
   "cell_type": "code",
   "execution_count": 2,
   "id": "16ed4e70-4a5b-4940-8de3-580d36ace85f",
   "metadata": {
    "tags": []
   },
   "outputs": [],
   "source": [
    "x, t, s, z, T = symbols('x t σ z T')\n",
    "\n",
    "class dp(Function):\n",
    "    \"\"\"\n",
    "    d_{+}(x,s,t) = (x + (s^2/2)(T-t))/(s sqrt(T-t)) \n",
    "    \"\"\"\n",
    "    def fdiff(self, argindex):\n",
    "        x, t, s = self.args\n",
    "        if argindex == 1:\n",
    "            return 1 /(s * sqrt(T-t))\n",
    "        if argindex == 3:\n",
    "            return - dm(x,t,s) / s\n",
    "    \n",
    "    def _latex(self, printer):\n",
    "        x , t , s = [printer._print(i) for i in self.args]\n",
    "        return r\"\\operatorname{d_{+}}{\\left(%s,%s,%s\\right)}\" % (x,t,s)\n",
    "        \n",
    "class dm(Function):\n",
    "    \"\"\"\n",
    "    d_{+}(x,s,t) = (x - (s^2/2)(T-t))/(s sqrt(T-t)) \n",
    "    \"\"\"\n",
    "    def fdiff(self, argindex):\n",
    "        x, t, s = self.args\n",
    "        if argindex == 1:\n",
    "            return 1 /(s * sqrt(T-t))\n",
    "        if argindex == 3:\n",
    "            return - dp(x,t,s) / s\n",
    "        \n",
    "    def _latex(self, printer):\n",
    "        x , t , s = [printer._print(i) for i in self.args]\n",
    "        return r\"\\operatorname{d_{-}}{\\left(%s,%s,%s\\right)}\" % (x,t,s)\n",
    "    \n",
    "assert diff(dp(x,t,s),s) == - dm(x,t,s) /s \n",
    "assert diff(dm(x,t,s),s) == - dp(x,t,s) /s \n",
    "assert diff(dp(x,t,s),x) == diff(dm(x,t,s),x) == 1 /(s * sqrt(T-t))"
   ]
  },
  {
   "cell_type": "code",
   "execution_count": 3,
   "id": "7f864959-55ea-4667-a925-fe378d26dd8c",
   "metadata": {
    "tags": []
   },
   "outputs": [],
   "source": [
    "class dN(Function):\n",
    "    \"\"\"\n",
    "    N'(z) = (1/(sqrt(2 pi sigma)) e^(-z^2/2)\n",
    "    \"\"\"\n",
    "    def fdiff(self, argindex=1):\n",
    "        return - self.args[0] * dN(self.args[0])\n",
    "    \n",
    "    def _latex(self,printer):\n",
    "        a = printer._print(self.args[0])\n",
    "        return r\"N^{\\prime}{\\left(%s\\right)}\" % (a)"
   ]
  },
  {
   "cell_type": "code",
   "execution_count": 4,
   "id": "5da4dd95-17cb-4a67-a5ee-0a405ba6c646",
   "metadata": {
    "tags": []
   },
   "outputs": [],
   "source": [
    "# should raise an error \n",
    "#diff(dN(x,z),x)"
   ]
  },
  {
   "cell_type": "code",
   "execution_count": 5,
   "id": "0c1dd6b0-f57a-4c00-8a3d-817f2b51ed0c",
   "metadata": {
    "tags": []
   },
   "outputs": [],
   "source": [
    "assert diff(dN(z),z) == - z * dN(z)"
   ]
  },
  {
   "cell_type": "code",
   "execution_count": 6,
   "id": "4f8c2ae6-46ce-49e3-bd79-73fed2dda5e6",
   "metadata": {
    "tags": []
   },
   "outputs": [],
   "source": [
    "class N(Function):\n",
    "    \"\"\"\n",
    "    N(z) = (1/(sqrt(2 pi sigma)) int_0^z e^(-z^2/2) dz\n",
    "    \"\"\"\n",
    "    def fdiff(self, argindex=1):\n",
    "        return dN(self.args[0])"
   ]
  },
  {
   "cell_type": "code",
   "execution_count": 7,
   "id": "e3ca8aa5-ef3a-48f4-9b0a-796a5692351c",
   "metadata": {
    "tags": []
   },
   "outputs": [],
   "source": [
    "assert diff(N(z),z) == dN(z)"
   ]
  },
  {
   "cell_type": "code",
   "execution_count": 10,
   "id": "081b0841-fda9-459b-88cb-cc26d1bef6de",
   "metadata": {
    "tags": []
   },
   "outputs": [],
   "source": [
    "#class BSM(Function):\n",
    "#    \"\"\"\n",
    "#    BSM(t,x,s) = e^x N(d_{+}) - N(d_{-})\n",
    "#    \"\"\"\n",
    "    "
   ]
  },
  {
   "cell_type": "code",
   "execution_count": 11,
   "id": "4bbfd9cb-3c66-48da-9ea7-f663a4900adc",
   "metadata": {
    "tags": []
   },
   "outputs": [],
   "source": [
    "BSM = exp(x)*N(dp(x,t,s))-N(dm(x,t,s))"
   ]
  },
  {
   "cell_type": "code",
   "execution_count": 19,
   "id": "c80b1dc7-5e2f-4964-a264-549ace32582d",
   "metadata": {
    "tags": []
   },
   "outputs": [
    {
     "data": {
      "text/plain": [
       "\"Add(Mul(Integer(-1), N(dm(Symbol('x'), Symbol('t'), Symbol('σ')))), Mul(N(dp(Symbol('x'), Symbol('t'), Symbol('σ'))), exp(Symbol('x'))))\""
      ]
     },
     "execution_count": 19,
     "metadata": {},
     "output_type": "execute_result"
    }
   ],
   "source": [
    "srepr(BSM)"
   ]
  },
  {
   "cell_type": "code",
   "execution_count": 21,
   "id": "700e13d6-9250-4e17-bc83-a79ac450fa2b",
   "metadata": {
    "tags": []
   },
   "outputs": [],
   "source": [
    "f = Function('f')"
   ]
  },
  {
   "cell_type": "code",
   "execution_count": 28,
   "id": "12b49f0b-789e-4951-8b85-52f71d57a762",
   "metadata": {
    "tags": []
   },
   "outputs": [
    {
     "data": {
      "text/plain": [
       "<sympy.core.traversal.preorder_traversal at 0x7f252105f3d0>"
      ]
     },
     "execution_count": 28,
     "metadata": {},
     "output_type": "execute_result"
    }
   ],
   "source": [
    "preorder_traversal(f(x,t,s))"
   ]
  },
  {
   "cell_type": "code",
   "execution_count": 55,
   "id": "b964ed39-03bb-4877-8b6a-034ea6cff92a",
   "metadata": {
    "tags": []
   },
   "outputs": [
    {
     "data": {
      "text/latex": [
       "$\\displaystyle N^{\\prime}{\\left(\\operatorname{d_{+}}{\\left(x,t,σ\\right)}\\right)} e^{x}$"
      ],
      "text/plain": [
       "dN(dp(x, t, σ))*exp(x)"
      ]
     },
     "execution_count": 55,
     "metadata": {},
     "output_type": "execute_result"
    }
   ],
   "source": [
    "(dN(dm(x,t,s))).subs(dN(dm(x,t,s)), exp(x) * dN(dp(x,t,s)))"
   ]
  },
  {
   "cell_type": "code",
   "execution_count": null,
   "id": "12d64c3d-f7cf-4596-8edc-d4605a4bbe65",
   "metadata": {},
   "outputs": [],
   "source": []
  }
 ],
 "metadata": {
  "kernelspec": {
   "display_name": "python-science kernel",
   "language": "python",
   "name": "python-science"
  },
  "language_info": {
   "codemirror_mode": {
    "name": "ipython",
    "version": 3
   },
   "file_extension": ".py",
   "mimetype": "text/x-python",
   "name": "python",
   "nbconvert_exporter": "python",
   "pygments_lexer": "ipython3",
   "version": "3.10.9"
  }
 },
 "nbformat": 4,
 "nbformat_minor": 5
}
